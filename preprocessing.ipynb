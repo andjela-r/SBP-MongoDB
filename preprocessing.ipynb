{
  "cells": [
    {
      "cell_type": "code",
      "execution_count": 1,
      "metadata": {
        "id": "DqpcRp9lWw83"
      },
      "outputs": [],
      "source": [
        "import pandas as pd\n",
        "import numpy as np"
      ]
    },
    {
      "cell_type": "code",
      "execution_count": 76,
      "metadata": {
        "colab": {
          "base_uri": "https://localhost:8080/"
        },
        "id": "XLnh4MRZcxCc",
        "outputId": "59f30242-d4da-47af-fe53-551fc80a7743"
      },
      "outputs": [
        {
          "name": "stderr",
          "output_type": "stream",
          "text": [
            "C:\\Users\\Kiki\\AppData\\Local\\Temp\\ipykernel_15476\\4269832138.py:5: DtypeWarning: Columns (52) have mixed types. Specify dtype option on import or set low_memory=False.\n",
            "  stats2 = pd.read_csv(\"stats2.csv\")\n"
          ]
        }
      ],
      "source": [
        "champs = pd.read_csv(\"champs.csv\")\n",
        "matches = pd.read_csv(\"matches.csv\")\n",
        "participants = pd.read_csv(\"participants.csv\")\n",
        "stats1 = pd.read_csv(\"stats1.csv\")\n",
        "stats2 = pd.read_csv(\"stats2.csv\")\n",
        "teambans = pd.read_csv(\"teambans.csv\")\n",
        "teamstats = pd.read_csv(\"teamstats.csv\")"
      ]
    },
    {
      "cell_type": "code",
      "execution_count": 77,
      "metadata": {
        "colab": {
          "base_uri": "https://localhost:8080/"
        },
        "collapsed": true,
        "id": "3NcvLSH1fH1x",
        "outputId": "5c45cdd1-38e7-43f2-9136-6e8eef6b4bde"
      },
      "outputs": [
        {
          "name": "stdout",
          "output_type": "stream",
          "text": [
            "<class 'pandas.core.frame.DataFrame'>\n",
            "RangeIndex: 184069 entries, 0 to 184068\n",
            "Data columns (total 8 columns):\n",
            " #   Column      Non-Null Count   Dtype \n",
            "---  ------      --------------   ----- \n",
            " 0   id          184069 non-null  int64 \n",
            " 1   gameid      184069 non-null  int64 \n",
            " 2   platformid  184069 non-null  object\n",
            " 3   queueid     184069 non-null  int64 \n",
            " 4   seasonid    184069 non-null  int64 \n",
            " 5   duration    184069 non-null  int64 \n",
            " 6   creation    184069 non-null  int64 \n",
            " 7   version     184069 non-null  object\n",
            "dtypes: int64(6), object(2)\n",
            "memory usage: 11.2+ MB\n"
          ]
        }
      ],
      "source": [
        "#champs.info()\n",
        "matches.info()\n",
        "#teamstats.info()\n",
        "#stats1.info()\n",
        "#stats2.info()\n",
        "#teambans.info()\n",
        "#participants.info()"
      ]
    },
    {
      "cell_type": "code",
      "execution_count": 78,
      "metadata": {
        "id": "f9GE7C8spcQt"
      },
      "outputs": [
        {
          "name": "stdout",
          "output_type": "stream",
          "text": [
            "        matchid  player_count\n",
            "0            10            10\n",
            "1            11            10\n",
            "2            12            10\n",
            "3            13            10\n",
            "4            14            10\n",
            "...         ...           ...\n",
            "184064   187584            10\n",
            "184065   187585            10\n",
            "184066   187586            10\n",
            "184067   187587            10\n",
            "184068   187588            10\n",
            "\n",
            "[184069 rows x 2 columns]\n"
          ]
        }
      ],
      "source": [
        "# Izračunavamo broj igrača po meču\n",
        "player_count = participants.groupby('matchid').size().reset_index(name='player_count')\n",
        "\n",
        "print(player_count)"
      ]
    },
    {
      "cell_type": "code",
      "execution_count": 79,
      "metadata": {
        "id": "DhK7He5vA8Xn"
      },
      "outputs": [
        {
          "name": "stdout",
          "output_type": "stream",
          "text": [
            "        matchid  player_count\n",
            "121453   124937             6\n",
            "121561   125045             6\n",
            "121562   125046             6\n",
            "121563   125047             6\n",
            "121564   125048             6\n",
            "...         ...           ...\n",
            "183476   186996             6\n",
            "183477   186997             6\n",
            "183478   186998             6\n",
            "183479   186999             6\n",
            "183480   187000             6\n",
            "\n",
            "[1541 rows x 2 columns]\n"
          ]
        }
      ],
      "source": [
        "player_count_less_than_10 = player_count[player_count['player_count'] < 10]\n",
        "\n",
        "print(player_count_less_than_10)"
      ]
    },
    {
      "cell_type": "code",
      "execution_count": 80,
      "metadata": {
        "id": "acALaWOnBAIH"
      },
      "outputs": [
        {
          "name": "stdout",
          "output_type": "stream",
          "text": [
            "121453    124937\n",
            "121561    125045\n",
            "121562    125046\n",
            "121563    125047\n",
            "121564    125048\n",
            "           ...  \n",
            "183476    186996\n",
            "183477    186997\n",
            "183478    186998\n",
            "183479    186999\n",
            "183480    187000\n",
            "Name: matchid, Length: 1541, dtype: int64\n"
          ]
        }
      ],
      "source": [
        "# Izdvajamo listu mečeva koji imaju manje od 10 igrača\n",
        "matches_to_delete = player_count_less_than_10['matchid']\n",
        "\n",
        "print(matches_to_delete)"
      ]
    },
    {
      "cell_type": "code",
      "execution_count": 81,
      "metadata": {
        "id": "C_L71gr_BC4l"
      },
      "outputs": [],
      "source": [
        "id_to_matchid = participants.set_index('id')['matchid'].to_dict()\n",
        "\n",
        "# Dodajte matchid kolonu u stats1 i stats2 koristeći mapu\n",
        "stats1['matchid'] = stats1['id'].map(id_to_matchid)\n",
        "stats2['matchid'] = stats2['id'].map(id_to_matchid)\n",
        "\n",
        "player_count = participants['matchid'].value_counts()\n",
        "matches_with_less_than_10_players = player_count[player_count < 10].index"
      ]
    },
    {
      "cell_type": "code",
      "execution_count": 82,
      "metadata": {
        "id": "z-Cg6ZEnBF51"
      },
      "outputs": [
        {
          "name": "stdout",
          "output_type": "stream",
          "text": [
            "Broj mečeva sa manje od 10 igrača: 1541\n",
            "Broj redova pre čišćenja u stats1: 999999\n",
            "Broj redova posle čišćenja u stats1: 999999\n",
            "Broj redova pre čišćenja u stats2: 834518\n",
            "Broj redova posle čišćenja u stats2: 825280\n"
          ]
        }
      ],
      "source": [
        "player_count = participants['matchid'].value_counts()\n",
        "matches_with_less_than_10_players = player_count[player_count < 10].index\n",
        "\n",
        "print(f\"Broj mečeva sa manje od 10 igrača: {len(matches_with_less_than_10_players)}\")\n",
        "\n",
        "# Filtrirajte mečeve iz stats1 i stats2 koji nemaju statistike za svih 10 igrača\n",
        "stats1_cleaned = stats1[~stats1['matchid'].isin(matches_with_less_than_10_players)]\n",
        "stats2_cleaned = stats2[~stats2['matchid'].isin(matches_with_less_than_10_players)]\n",
        "\n",
        "# Proverite koliko redova je obrisano\n",
        "print(f\"Broj redova pre čišćenja u stats1: {len(stats1)}\")\n",
        "print(f\"Broj redova posle čišćenja u stats1: {len(stats1_cleaned)}\")\n",
        "print(f\"Broj redova pre čišćenja u stats2: {len(stats2)}\")\n",
        "print(f\"Broj redova posle čišćenja u stats2: {len(stats2_cleaned)}\")"
      ]
    },
    {
      "cell_type": "code",
      "execution_count": 83,
      "metadata": {
        "id": "4mVhtOSTBMFe"
      },
      "outputs": [],
      "source": [
        "#Brisanje nedostajućih podataka\n",
        "matches = matches[~matches['id'].isin(matches_with_less_than_10_players)]\n",
        "participants = participants[~participants['matchid'].isin(matches_with_less_than_10_players)]\n",
        "#stats1 = stats1[stats1['id'].isin(participants['id'])]\n",
        "#stats2 = stats2[stats2['id'].isin(participants['id'])]\n",
        "teambans = teambans[~teambans['matchid'].isin(matches_with_less_than_10_players)]\n",
        "teamstats = teamstats[~teamstats['matchid'].isin(matches_with_less_than_10_players)]"
      ]
    },
    {
      "cell_type": "code",
      "execution_count": 84,
      "metadata": {
        "id": "5KUIx-W_CbBb"
      },
      "outputs": [
        {
          "data": {
            "text/plain": [
              "'matches.to_csv(\"clean_matches.csv\", index=False)\\nparticipants.to_csv(\"clean_participants.csv\", index=False)\\nteambans.to_csv(\"clean_teambans.csv\", index=False)\\nteamstats.to_csv(\"clean_teamstats.csv\", index=False)'"
            ]
          },
          "execution_count": 84,
          "metadata": {},
          "output_type": "execute_result"
        }
      ],
      "source": [
        "\"\"\"matches.to_csv(\"clean_matches.csv\", index=False)\n",
        "participants.to_csv(\"clean_participants.csv\", index=False)\n",
        "teambans.to_csv(\"clean_teambans.csv\", index=False)\n",
        "teamstats.to_csv(\"clean_teamstats.csv\", index=False)\"\"\""
      ]
    },
    {
      "cell_type": "markdown",
      "metadata": {
        "id": "W8uO62cvCU39"
      },
      "source": []
    },
    {
      "cell_type": "code",
      "execution_count": 85,
      "metadata": {
        "id": "N2g_XfOd41yH"
      },
      "outputs": [],
      "source": [
        "stats_combined = pd.concat([stats1_cleaned, stats2_cleaned])"
      ]
    },
    {
      "cell_type": "code",
      "execution_count": 86,
      "metadata": {
        "colab": {
          "base_uri": "https://localhost:8080/"
        },
        "collapsed": true,
        "id": "Su0982YC2e12",
        "outputId": "662b69c5-ca65-41f6-bc78-b718d1a0762a"
      },
      "outputs": [
        {
          "name": "stdout",
          "output_type": "stream",
          "text": [
            "<class 'pandas.core.frame.DataFrame'>\n",
            "Int64Index: 1825279 entries, 0 to 834517\n",
            "Data columns (total 57 columns):\n",
            " #   Column                  Dtype \n",
            "---  ------                  ----- \n",
            " 0   id                      int64 \n",
            " 1   win                     int64 \n",
            " 2   item1                   int64 \n",
            " 3   item2                   int64 \n",
            " 4   item3                   int64 \n",
            " 5   item4                   int64 \n",
            " 6   item5                   int64 \n",
            " 7   item6                   int64 \n",
            " 8   trinket                 int64 \n",
            " 9   kills                   int64 \n",
            " 10  deaths                  int64 \n",
            " 11  assists                 int64 \n",
            " 12  largestkillingspree     int64 \n",
            " 13  largestmultikill        int64 \n",
            " 14  killingsprees           int64 \n",
            " 15  longesttimespentliving  int64 \n",
            " 16  doublekills             int64 \n",
            " 17  triplekills             int64 \n",
            " 18  quadrakills             int64 \n",
            " 19  pentakills              int64 \n",
            " 20  legendarykills          int64 \n",
            " 21  totdmgdealt             int64 \n",
            " 22  magicdmgdealt           int64 \n",
            " 23  physicaldmgdealt        int64 \n",
            " 24  truedmgdealt            int64 \n",
            " 25  largestcrit             int64 \n",
            " 26  totdmgtochamp           int64 \n",
            " 27  magicdmgtochamp         int64 \n",
            " 28  physdmgtochamp          int64 \n",
            " 29  truedmgtochamp          int64 \n",
            " 30  totheal                 int64 \n",
            " 31  totunitshealed          int64 \n",
            " 32  dmgselfmit              int64 \n",
            " 33  dmgtoobj                int64 \n",
            " 34  dmgtoturrets            int64 \n",
            " 35  visionscore             int64 \n",
            " 36  timecc                  int64 \n",
            " 37  totdmgtaken             int64 \n",
            " 38  magicdmgtaken           int64 \n",
            " 39  physdmgtaken            int64 \n",
            " 40  truedmgtaken            int64 \n",
            " 41  goldearned              int64 \n",
            " 42  goldspent               int64 \n",
            " 43  turretkills             int64 \n",
            " 44  inhibkills              int64 \n",
            " 45  totminionskilled        int64 \n",
            " 46  neutralminionskilled    int64 \n",
            " 47  ownjunglekills          int64 \n",
            " 48  enemyjunglekills        int64 \n",
            " 49  totcctimedealt          int64 \n",
            " 50  champlvl                int64 \n",
            " 51  pinksbought             int64 \n",
            " 52  wardsbought             object\n",
            " 53  wardsplaced             int64 \n",
            " 54  wardskilled             int64 \n",
            " 55  firstblood              int64 \n",
            " 56  matchid                 int64 \n",
            "dtypes: int64(56), object(1)\n",
            "memory usage: 807.7+ MB\n"
          ]
        }
      ],
      "source": [
        "stats_combined.info()"
      ]
    },
    {
      "cell_type": "code",
      "execution_count": 87,
      "metadata": {
        "colab": {
          "base_uri": "https://localhost:8080/"
        },
        "collapsed": true,
        "id": "lLJfVBOpyrlz",
        "outputId": "2be302d2-c92a-458a-9bb7-6b2a11207c96"
      },
      "outputs": [
        {
          "name": "stdout",
          "output_type": "stream",
          "text": [
            "              id  matchid_x  player  championid  ss1  ss2  role position  win  \\\n",
            "1239795  1272013     127703       6         103   14    4  SOLO      MID  NaN   \n",
            "\n",
            "         item1  ...  enemyjunglekills  totcctimedealt  champlvl  pinksbought  \\\n",
            "1239795    NaN  ...               NaN             NaN       NaN          NaN   \n",
            "\n",
            "         wardsbought  wardsplaced  wardskilled  firstblood  matchid_y  \\\n",
            "1239795          NaN          NaN          NaN         NaN        NaN   \n",
            "\n",
            "            _merge  \n",
            "1239795  left_only  \n",
            "\n",
            "[1 rows x 65 columns]\n"
          ]
        }
      ],
      "source": [
        "# Merge participants with combined stats on id\n",
        "merged = participants.merge(stats_combined, how='left', on='id', indicator=True)\n",
        "\n",
        "# Filter rows where merge indicator is 'left_only' (indicating missing stats)\n",
        "missing_stats = merged[merged['_merge'] == 'left_only']\n",
        "print(missing_stats)"
      ]
    },
    {
      "cell_type": "code",
      "execution_count": 88,
      "metadata": {
        "id": "OMfZd1u1zXV4"
      },
      "outputs": [],
      "source": [
        "missing_match_ids = participants[participants['id'].isin(missing_stats['id'])]['matchid'].unique()"
      ]
    },
    {
      "cell_type": "code",
      "execution_count": 89,
      "metadata": {
        "colab": {
          "base_uri": "https://localhost:8080/"
        },
        "id": "Z73ScIeUzpEu",
        "outputId": "a068c560-2976-484e-df36-e7cdf680e7a5"
      },
      "outputs": [
        {
          "name": "stdout",
          "output_type": "stream",
          "text": [
            "[127703]\n"
          ]
        }
      ],
      "source": [
        "print(missing_match_ids)"
      ]
    },
    {
      "cell_type": "code",
      "execution_count": 90,
      "metadata": {
        "id": "XJwxVPhjzv8I"
      },
      "outputs": [],
      "source": [
        "# Filter out matches with missing statistics\n",
        "matches_filtered = matches[~matches['id'].isin(missing_match_ids)]"
      ]
    },
    {
      "cell_type": "code",
      "execution_count": 91,
      "metadata": {
        "colab": {
          "base_uri": "https://localhost:8080/"
        },
        "id": "3xpFssTD5ScC",
        "outputId": "d699e461-5a8d-443c-f783-3c8696bc5fea"
      },
      "outputs": [
        {
          "data": {
            "text/plain": [
              "(182527, 8)"
            ]
          },
          "execution_count": 91,
          "metadata": {},
          "output_type": "execute_result"
        }
      ],
      "source": [
        "matches_filtered.shape"
      ]
    },
    {
      "cell_type": "code",
      "execution_count": 92,
      "metadata": {
        "colab": {
          "base_uri": "https://localhost:8080/"
        },
        "id": "tduEcWYA6lN_",
        "outputId": "bbd6db63-c312-4d05-c50b-56ba3bfdcc82"
      },
      "outputs": [
        {
          "data": {
            "text/plain": [
              "(1825279, 57)"
            ]
          },
          "execution_count": 92,
          "metadata": {},
          "output_type": "execute_result"
        }
      ],
      "source": [
        "stats_combined.shape"
      ]
    },
    {
      "cell_type": "code",
      "execution_count": 93,
      "metadata": {
        "id": "JNwIWDhn9U4l"
      },
      "outputs": [],
      "source": [
        "matches = matches_filtered"
      ]
    },
    {
      "cell_type": "code",
      "execution_count": 94,
      "metadata": {
        "id": "pRF4K-5puzUU"
      },
      "outputs": [],
      "source": [
        "matches.drop(['gameid','queueid','seasonid','creation','version'], axis=1, inplace=True)"
      ]
    },
    {
      "cell_type": "code",
      "execution_count": 95,
      "metadata": {},
      "outputs": [],
      "source": [
        "teambans.drop(['banturn'], axis=1, inplace=True)"
      ]
    },
    {
      "cell_type": "code",
      "execution_count": 96,
      "metadata": {},
      "outputs": [],
      "source": [
        "stats_combined.drop(['trinket', 'largestkillingspree', 'largestmultikill', 'killingsprees', 'longesttimespentliving', 'doublekills'], axis=1, inplace=True)"
      ]
    },
    {
      "cell_type": "code",
      "execution_count": 97,
      "metadata": {},
      "outputs": [],
      "source": [
        "stats_combined.drop(['triplekills','quadrakills','pentakills','legendarykills','largestcrit', 'magicdmgtochamp', 'physdmgtochamp', 'truedmgtochamp'], axis=1, inplace=True)"
      ]
    },
    {
      "cell_type": "code",
      "execution_count": 98,
      "metadata": {},
      "outputs": [],
      "source": [
        "stats_combined.drop(['totheal','totunitshealed','dmgselfmit','dmgtoobj','dmgtoturrets','timecc','magicdmgtaken','physdmgtaken','truedmgtaken'], axis=1, inplace=True)"
      ]
    },
    {
      "cell_type": "code",
      "execution_count": 99,
      "metadata": {},
      "outputs": [],
      "source": [
        "stats_combined.drop(['turretkills','totcctimedealt','champlvl','pinksbought','wardsbought','wardsplaced','wardskilled'], axis=1, inplace=True)"
      ]
    },
    {
      "cell_type": "code",
      "execution_count": 100,
      "metadata": {},
      "outputs": [
        {
          "name": "stdout",
          "output_type": "stream",
          "text": [
            "<class 'pandas.core.frame.DataFrame'>\n",
            "Int64Index: 1825279 entries, 0 to 834517\n",
            "Data columns (total 27 columns):\n",
            " #   Column                Dtype\n",
            "---  ------                -----\n",
            " 0   id                    int64\n",
            " 1   win                   int64\n",
            " 2   item1                 int64\n",
            " 3   item2                 int64\n",
            " 4   item3                 int64\n",
            " 5   item4                 int64\n",
            " 6   item5                 int64\n",
            " 7   item6                 int64\n",
            " 8   kills                 int64\n",
            " 9   deaths                int64\n",
            " 10  assists               int64\n",
            " 11  totdmgdealt           int64\n",
            " 12  magicdmgdealt         int64\n",
            " 13  physicaldmgdealt      int64\n",
            " 14  truedmgdealt          int64\n",
            " 15  totdmgtochamp         int64\n",
            " 16  visionscore           int64\n",
            " 17  totdmgtaken           int64\n",
            " 18  goldearned            int64\n",
            " 19  goldspent             int64\n",
            " 20  inhibkills            int64\n",
            " 21  totminionskilled      int64\n",
            " 22  neutralminionskilled  int64\n",
            " 23  ownjunglekills        int64\n",
            " 24  enemyjunglekills      int64\n",
            " 25  firstblood            int64\n",
            " 26  matchid               int64\n",
            "dtypes: int64(27)\n",
            "memory usage: 389.9 MB\n"
          ]
        }
      ],
      "source": [
        "stats_combined.info()"
      ]
    },
    {
      "cell_type": "code",
      "execution_count": 101,
      "metadata": {},
      "outputs": [],
      "source": [
        "matches.to_csv(\"clean_matches.csv\", index=False)\n",
        "participants.to_csv(\"clean_participants.csv\", index=False)\n",
        "teambans.to_csv(\"clean_teambans.csv\", index=False)\n",
        "teamstats.to_csv(\"clean_teamstats.csv\", index=False)\n",
        "stats_combined.to_csv(\"clean_player_stats.csv\", index=False)"
      ]
    }
  ],
  "metadata": {
    "colab": {
      "provenance": []
    },
    "kernelspec": {
      "display_name": "Python 3",
      "name": "python3"
    },
    "language_info": {
      "codemirror_mode": {
        "name": "ipython",
        "version": 3
      },
      "file_extension": ".py",
      "mimetype": "text/x-python",
      "name": "python",
      "nbconvert_exporter": "python",
      "pygments_lexer": "ipython3",
      "version": "3.10.9"
    }
  },
  "nbformat": 4,
  "nbformat_minor": 0
}
